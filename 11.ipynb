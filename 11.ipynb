{
 "cells": [
  {
   "cell_type": "code",
   "execution_count": 3,
   "id": "022c9420-f702-4b26-b93d-c04e5353f8e8",
   "metadata": {},
   "outputs": [],
   "source": [
    "import numpy as np"
   ]
  },
  {
   "cell_type": "code",
   "execution_count": 7,
   "id": "767c69cf-7125-48ad-bb23-79860dfd6193",
   "metadata": {},
   "outputs": [],
   "source": [
    "def stepf(x):\n",
    "    return np.where(x>=0,1,0)\n",
    "x_and=np.array([[0,0],[0,1],[1,0],[1,1]])\n",
    "y_and=np.array([[0],[0],[0],[1]])\n",
    "x_or=np.array([[0,0],[0,1],[1,0],[1,1]])\n",
    "y_or=np.array([[0],[1],[1],[1]])"
   ]
  },
  {
   "cell_type": "code",
   "execution_count": 27,
   "id": "50eb2b24-1428-42d5-949b-fca934546f8e",
   "metadata": {},
   "outputs": [],
   "source": [
    "class Perceptron:\n",
    "    def __init__(self,input,lr=0.1,epochs=1000):\n",
    "        self.weights=np.zeros((input,1))\n",
    "        self.bias=0\n",
    "        self.lr=lr\n",
    "        self.epochs=epochs\n",
    "    def train(self,x,y):\n",
    "        for _ in range(self.epochs):\n",
    "            for i,l in zip(x,y):\n",
    "                i=i.reshape(-1,1)\n",
    "                lo=np.dot(i.T,self.weights)+self.bias\n",
    "                pred=stepf(lo)\n",
    "                error=l-pred\n",
    "                self.weights+=self.lr*error*i\n",
    "                self.bias+=self.lr*error\n",
    "    def predict(self,x):\n",
    "        lo=np.dot(x,self.weights)+self.bias\n",
    "        return stepf(lo)"
   ]
  },
  {
   "cell_type": "code",
   "execution_count": 29,
   "id": "07e35a27-56ad-47e0-9007-c9c33fe463f3",
   "metadata": {},
   "outputs": [
    {
     "name": "stdout",
     "output_type": "stream",
     "text": [
      "[[0]\n",
      " [0]\n",
      " [0]\n",
      " [1]]\n",
      "[[0]\n",
      " [1]\n",
      " [1]\n",
      " [1]]\n"
     ]
    }
   ],
   "source": [
    "p_and=Perceptron(input=2)\n",
    "p_and.train(x_and,y_and)\n",
    "print(p_and.predict(x_and))\n",
    "p_or=Perceptron(input=2)\n",
    "p_or.train(x_or,y_or)\n",
    "print(p_or.predict(x_or))"
   ]
  },
  {
   "cell_type": "code",
   "execution_count": null,
   "id": "b07190d6-b7b3-4138-ab08-4dba90aab374",
   "metadata": {},
   "outputs": [],
   "source": []
  }
 ],
 "metadata": {
  "kernelspec": {
   "display_name": "Python 3 (ipykernel)",
   "language": "python",
   "name": "python3"
  },
  "language_info": {
   "codemirror_mode": {
    "name": "ipython",
    "version": 3
   },
   "file_extension": ".py",
   "mimetype": "text/x-python",
   "name": "python",
   "nbconvert_exporter": "python",
   "pygments_lexer": "ipython3",
   "version": "3.11.7"
  }
 },
 "nbformat": 4,
 "nbformat_minor": 5
}
