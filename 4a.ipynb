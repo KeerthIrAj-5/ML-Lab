{
 "cells": [
  {
   "cell_type": "code",
   "execution_count": 15,
   "id": "c52cc373-dcda-45d9-90e3-df96d0081d79",
   "metadata": {},
   "outputs": [],
   "source": [
    "class TreeNode:\n",
    "    def __init__(self,value,children=[]):\n",
    "        self.value=value\n",
    "        self.children=children"
   ]
  },
  {
   "cell_type": "code",
   "execution_count": 16,
   "id": "b01dfc0c-9849-4728-9abe-f25089101d78",
   "metadata": {},
   "outputs": [],
   "source": [
    "def minmax(node,depth,max):\n",
    "    if depth==0 or not node.children:\n",
    "        return node.value,[node.value]\n",
    "    if max:\n",
    "        maxvalue=float(\"-inf\")\n",
    "        maxpath=[]\n",
    "        for child in node.children:\n",
    "            childvalue,childpath=minmax(child,depth-1,False)\n",
    "            if childvalue>maxvalue:\n",
    "                maxvalue=childvalue\n",
    "                maxpath=[node.value]+childpath\n",
    "        return maxvalue,maxpath\n",
    "    else:\n",
    "        minvalue=float(\"inf\")\n",
    "        minpath=[]\n",
    "        for child in node.children:\n",
    "            childvalue,childpath=minmax(child,depth-1,True)\n",
    "            if childvalue<minvalue:\n",
    "                minvalue=childvalue\n",
    "                minpath=[node.value]+childpath\n",
    "        return minvalue,minpath\n",
    "        "
   ]
  },
  {
   "cell_type": "code",
   "execution_count": 17,
   "id": "51b63fb0-bbe3-4feb-9e65-20f46952825b",
   "metadata": {},
   "outputs": [
    {
     "name": "stdout",
     "output_type": "stream",
     "text": [
      "3\n",
      "[0, 1, 3]\n"
     ]
    }
   ],
   "source": [
    "game=TreeNode(0,[\n",
    "    TreeNode(1,[TreeNode(3),TreeNode(12)]),\n",
    "    TreeNode(4,[TreeNode(8),TreeNode(2)])\n",
    "])\n",
    "value,path=minmax(game,2,True)\n",
    "print(f\"{value}\\n{path}\")"
   ]
  },
  {
   "cell_type": "code",
   "execution_count": null,
   "id": "1f493d79-d80b-49b4-8737-af11457b92bf",
   "metadata": {},
   "outputs": [],
   "source": []
  }
 ],
 "metadata": {
  "kernelspec": {
   "display_name": "Python 3 (ipykernel)",
   "language": "python",
   "name": "python3"
  },
  "language_info": {
   "codemirror_mode": {
    "name": "ipython",
    "version": 3
   },
   "file_extension": ".py",
   "mimetype": "text/x-python",
   "name": "python",
   "nbconvert_exporter": "python",
   "pygments_lexer": "ipython3",
   "version": "3.11.7"
  }
 },
 "nbformat": 4,
 "nbformat_minor": 5
}
