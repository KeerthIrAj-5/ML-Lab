{
 "cells": [
  {
   "cell_type": "code",
   "execution_count": 11,
   "id": "4eb101fb-3043-4cac-ba53-1cc7fb5acf73",
   "metadata": {},
   "outputs": [],
   "source": [
    "def bfs(graph,start,goal,h,p=[]):\n",
    "    open=[(0,start)]\n",
    "    close=set()\n",
    "    close.add(start)\n",
    "    while open:\n",
    "        open.sort(key=lambda x:h[x[1]],reverse=True)\n",
    "        cost,node=open.pop()\n",
    "        p.append(node)\n",
    "        if node==goal:\n",
    "            return p,cost\n",
    "        close.add(node)\n",
    "        for n,nc in graph[node]:\n",
    "            if n not in close:\n",
    "                close.add(node)\n",
    "                open.append((nc+cost,n))\n",
    "    return None"
   ]
  },
  {
   "cell_type": "code",
   "execution_count": 13,
   "id": "8161b98c-371b-4769-bbd1-900c22a899ee",
   "metadata": {},
   "outputs": [],
   "source": [
    "graph = {\n",
    "    'A': [('B', 11), ('C', 14), ('D',7)],\n",
    "    'B': [('A', 11), ('E', 15)],\n",
    "    'C': [('A', 14), ('E', 8), ('D',18), ('F',10)],\n",
    "    'D': [],\n",
    "    'E': [('B', 15), ('C', 8), ('H',9)],\n",
    "    'F': [('G', 20), ('C', 10), ('D',25)],\n",
    "    'G': [('')],\n",
    "    'H': [('E',9), ('G',10)]\n",
    "}\n",
    "start = 'A'\n",
    "goal = 'D'\n",
    "\n",
    "h = {\n",
    "    'A': 40,\n",
    "    'B': 32,\n",
    "    'C': 25,\n",
    "    'D': 3,\n",
    "    'E': 19,\n",
    "    'F': 17,\n",
    "    'G': 0,\n",
    "    'H': 10\n",
    "}"
   ]
  },
  {
   "cell_type": "code",
   "execution_count": 15,
   "id": "1fda5549-830c-436e-adf5-b0c8722e9987",
   "metadata": {},
   "outputs": [
    {
     "name": "stdout",
     "output_type": "stream",
     "text": [
      "['A', 'C', 'F', 'G', 'E', 'H', 'B', 'B', 'D'] \n",
      " 49\n"
     ]
    }
   ],
   "source": [
    "r=bfs(graph,start,goal,h,[])\n",
    "if r:\n",
    "    print(r[0],\"\\n\",r[1])"
   ]
  },
  {
   "cell_type": "code",
   "execution_count": null,
   "id": "836251d1-633b-44b6-b98d-d3f1bcd00638",
   "metadata": {},
   "outputs": [],
   "source": []
  }
 ],
 "metadata": {
  "kernelspec": {
   "display_name": "Python 3 (ipykernel)",
   "language": "python",
   "name": "python3"
  },
  "language_info": {
   "codemirror_mode": {
    "name": "ipython",
    "version": 3
   },
   "file_extension": ".py",
   "mimetype": "text/x-python",
   "name": "python",
   "nbconvert_exporter": "python",
   "pygments_lexer": "ipython3",
   "version": "3.11.7"
  }
 },
 "nbformat": 4,
 "nbformat_minor": 5
}
