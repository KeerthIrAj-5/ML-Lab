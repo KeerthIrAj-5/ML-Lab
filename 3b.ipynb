{
 "cells": [
  {
   "cell_type": "code",
   "execution_count": 13,
   "id": "0cfde6c8-c348-495e-abaa-d387e9015af2",
   "metadata": {},
   "outputs": [],
   "source": [
    "def h(n):\n",
    "    H={'A':3,'B':4,'C':2,'D':6,'G':0,'S':5}\n",
    "    return H[n]\n"
   ]
  },
  {
   "cell_type": "code",
   "execution_count": 14,
   "id": "4194a764-59a5-442e-aca5-403312f1d67d",
   "metadata": {},
   "outputs": [],
   "source": [
    "def astar(graph,start,goal):\n",
    "    open=[start]\n",
    "    close=set()\n",
    "    g={start:0}\n",
    "    parents={start:start}\n",
    "    while open:\n",
    "        open.sort(key=lambda v:h(v)+g[v],reverse=True)\n",
    "        n=open.pop()\n",
    "        if(n==goal):\n",
    "            path=[]\n",
    "            cost=g[n]\n",
    "            while parents[n]!=n:\n",
    "                path.append(n)\n",
    "                n=parents[n]\n",
    "            path.append(start)\n",
    "            path.reverse()\n",
    "            print(\"Path found\")\n",
    "            return cost,path\n",
    "        for m,weight in graph[n]:\n",
    "            if m not in open and m not in close:\n",
    "                open.append(m)\n",
    "                parents[m]=n\n",
    "                g[m]=g[n]+weight\n",
    "            else:\n",
    "                if g[m]>g[n]+weight:\n",
    "                    g[m]=g[n]+weight\n",
    "                    parents[m]=n\n",
    "                    if m in close:\n",
    "                        close.remove(m)\n",
    "                        open.append(m)\n",
    "        close.add(n)\n",
    "    print(\"No path\")\n",
    "    return None"
   ]
  },
  {
   "cell_type": "code",
   "execution_count": 15,
   "id": "bff8f326-cc49-4c45-99f1-4959c4f50d38",
   "metadata": {},
   "outputs": [],
   "source": [
    "graph = {\n",
    "    'S': [('A', 1), ('G', 10)],\n",
    "    'A': [('B', 2), ('C', 1)],\n",
    "    'B': [('D', 5)],\n",
    "    'C': [('D', 3),('G', 4)],\n",
    "    'D': [('G', 2)]\n",
    "}"
   ]
  },
  {
   "cell_type": "code",
   "execution_count": 16,
   "id": "b75c599c-57c5-43c5-bdd9-20f654ad1bbb",
   "metadata": {},
   "outputs": [
    {
     "name": "stdout",
     "output_type": "stream",
     "text": [
      "Path found\n",
      "6\n",
      "['S', 'A', 'C', 'G']\n"
     ]
    }
   ],
   "source": [
    "r=astar(graph, 'S', 'G')\n",
    "print(f\"{r[0]}\\n{r[1]}\")"
   ]
  },
  {
   "cell_type": "code",
   "execution_count": null,
   "id": "0f5467c0-c2cb-4920-90d8-6750e6f5a582",
   "metadata": {},
   "outputs": [],
   "source": []
  }
 ],
 "metadata": {
  "kernelspec": {
   "display_name": "Python 3 (ipykernel)",
   "language": "python",
   "name": "python3"
  },
  "language_info": {
   "codemirror_mode": {
    "name": "ipython",
    "version": 3
   },
   "file_extension": ".py",
   "mimetype": "text/x-python",
   "name": "python",
   "nbconvert_exporter": "python",
   "pygments_lexer": "ipython3",
   "version": "3.11.7"
  }
 },
 "nbformat": 4,
 "nbformat_minor": 5
}
