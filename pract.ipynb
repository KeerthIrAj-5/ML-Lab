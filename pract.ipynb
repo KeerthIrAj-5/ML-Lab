{
 "cells": [
  {
   "cell_type": "code",
   "execution_count": 780,
   "id": "8dcd8809-6566-490f-b304-38ad4362aae2",
   "metadata": {},
   "outputs": [],
   "source": [
    "import numpy as np"
   ]
  },
  {
   "cell_type": "code",
   "execution_count": 812,
   "id": "299e9852-0187-429e-b372-36b59e4d3dc6",
   "metadata": {},
   "outputs": [],
   "source": [
    "def sigmoid(x):\n",
    "    return 1/(1+np.exp(-x))\n",
    "def sigmoid_derivative(x):\n",
    "    return x*(1-x)\n",
    "x=np.array([[0,0],[0,1],[1,0],[1,1]])\n",
    "y_and=np.array([[0],[0],[0],[1]])\n",
    "y_or=np.array([[0],[1],[1],[1]])"
   ]
  },
  {
   "cell_type": "code",
   "execution_count": 826,
   "id": "a460556d-da72-48e3-b6a6-d4c5452c0eaf",
   "metadata": {},
   "outputs": [],
   "source": [
    "def stepf(x):\n",
    "    return np.where(x>=0,1,0)\n",
    "class Perceptron:\n",
    "    def __init__(self,input,lr=0.2,epochs=1000):\n",
    "        self.weights=np.zeros((input,1))\n",
    "        self.bias=0\n",
    "        self.lr=lr\n",
    "        self.epochs=epochs\n",
    "    def train(self,x,y):\n",
    "        for _ in range(self.epochs):\n",
    "            for i,l in zip(x,y):\n",
    "                i=i.reshape(-1,1)\n",
    "                lo=np.dot(i.T,self.weights)+self.bias\n",
    "                pred=stepf(lo)\n",
    "                error=l-pred\n",
    "                self.weights+=self.lr*error*i\n",
    "                self.bias+=self.lr*error\n",
    "    def predict(self,x):\n",
    "        lo=np.dot(x,self.weights)+self.bias\n",
    "        return stepf(lo)"
   ]
  },
  {
   "cell_type": "code",
   "execution_count": 830,
   "id": "10075e40-e41c-49db-a7ac-fa48a426a72a",
   "metadata": {},
   "outputs": [
    {
     "name": "stdout",
     "output_type": "stream",
     "text": [
      "[[0]\n",
      " [1]\n",
      " [1]\n",
      " [1]]\n"
     ]
    }
   ],
   "source": [
    "a=Perceptron(input=2)\n",
    "a.train(x,y_or)\n",
    "print(a.predict(x))"
   ]
  },
  {
   "cell_type": "code",
   "execution_count": null,
   "id": "72c01c41-ebc4-4204-a42d-14cbd410d5c2",
   "metadata": {},
   "outputs": [],
   "source": []
  }
 ],
 "metadata": {
  "kernelspec": {
   "display_name": "Python 3 (ipykernel)",
   "language": "python",
   "name": "python3"
  },
  "language_info": {
   "codemirror_mode": {
    "name": "ipython",
    "version": 3
   },
   "file_extension": ".py",
   "mimetype": "text/x-python",
   "name": "python",
   "nbconvert_exporter": "python",
   "pygments_lexer": "ipython3",
   "version": "3.11.7"
  }
 },
 "nbformat": 4,
 "nbformat_minor": 5
}
