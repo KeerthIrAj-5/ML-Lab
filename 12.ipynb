{
 "cells": [
  {
   "cell_type": "code",
   "execution_count": 37,
   "id": "5bef9e4c-4bad-480b-a94e-55ab2c56fc7b",
   "metadata": {},
   "outputs": [],
   "source": [
    "import numpy as np"
   ]
  },
  {
   "cell_type": "code",
   "execution_count": 39,
   "id": "44da47c7-d2fc-438e-a093-debd87cdae52",
   "metadata": {},
   "outputs": [],
   "source": [
    "def sigmoid(x):\n",
    "    return 1/(1+np.exp(-x))\n",
    "def sigmoid_derivative(x):\n",
    "    return x*(1-x)\n",
    "x=np.array([[0,0],[0,1],[1,0],[1,1]])\n",
    "y_andn=np.array([[0],[0],[1],[0]])\n",
    "y_xor=np.array([[0],[1],[1],[0]])"
   ]
  },
  {
   "cell_type": "code",
   "execution_count": 41,
   "id": "d2c3dcc4-2b4d-486a-ab9e-a10348108337",
   "metadata": {},
   "outputs": [],
   "source": [
    "class MLP:\n",
    "    def __init__(self,input,hidden,output):\n",
    "        self.weights_ihidden=np.random.rand(input,hidden)\n",
    "        self.weights_hiddeno=np.random.rand(hidden,output)\n",
    "        self.bias_hidden=np.random.rand(1,hidden)\n",
    "        self.bias_output=np.random.rand(1,output)\n",
    "    def forward(self,x):\n",
    "        self.hidden=sigmoid(np.dot(x,self.weights_ihidden)+self.bias_hidden)\n",
    "        self.output=sigmoid(np.dot(self.hidden,self.weights_hiddeno)+self.bias_output)\n",
    "        return self.output\n",
    "    def backward(self,x,y,output):\n",
    "        oe=y-output\n",
    "        od=oe*sigmoid_derivative(output)\n",
    "        he=od.dot(self.weights_hiddeno.T)\n",
    "        hd=he*sigmoid_derivative(self.hidden)\n",
    "        self.weights_ihidden+=x.T.dot(hd)\n",
    "        self.weights_hiddeno+=self.hidden.T.dot(od)\n",
    "        self.bias_hidden+=np.sum(hd,axis=0,keepdims=True)\n",
    "        self.bias_output+=np.sum(od,axis=0,keepdims=True)\n",
    "    def train(self,x,y,epochs):\n",
    "        for _ in range(epochs):\n",
    "            output=self.forward(x)\n",
    "            self.backward(x,y,output)\n",
    "    def predict(self,x):\n",
    "        return (self.forward(x)>0.5).astype(int)\n",
    "            "
   ]
  },
  {
   "cell_type": "code",
   "execution_count": 45,
   "id": "42bbd7ec-0720-4e60-ad75-71c1db096afd",
   "metadata": {},
   "outputs": [
    {
     "name": "stdout",
     "output_type": "stream",
     "text": [
      "[[0]\n",
      " [1]\n",
      " [1]\n",
      " [0]]\n"
     ]
    }
   ],
   "source": [
    "a=MLP(input=2,hidden=4,output=1)\n",
    "a.train(x,y_xor,epochs=5000)\n",
    "print(a.predict(x))"
   ]
  },
  {
   "cell_type": "code",
   "execution_count": null,
   "id": "8d4d5af6-4d00-4139-b888-6f87e858a216",
   "metadata": {},
   "outputs": [],
   "source": []
  }
 ],
 "metadata": {
  "kernelspec": {
   "display_name": "Python 3 (ipykernel)",
   "language": "python",
   "name": "python3"
  },
  "language_info": {
   "codemirror_mode": {
    "name": "ipython",
    "version": 3
   },
   "file_extension": ".py",
   "mimetype": "text/x-python",
   "name": "python",
   "nbconvert_exporter": "python",
   "pygments_lexer": "ipython3",
   "version": "3.11.7"
  }
 },
 "nbformat": 4,
 "nbformat_minor": 5
}
