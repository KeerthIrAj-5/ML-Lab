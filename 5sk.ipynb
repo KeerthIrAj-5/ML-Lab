{
 "cells": [
  {
   "cell_type": "code",
   "execution_count": 16,
   "id": "77fe6168-8615-40a0-859f-59bff4a45330",
   "metadata": {},
   "outputs": [],
   "source": [
    "import pandas as pd\n",
    "from sklearn.model_selection import train_test_split\n",
    "from sklearn.metrics import accuracy_score\n",
    "from sklearn.naive_bayes import GaussianNB as Classifier"
   ]
  },
  {
   "cell_type": "code",
   "execution_count": 18,
   "id": "00ffbc57-70e4-4eff-9d36-de9cd8b35ac9",
   "metadata": {},
   "outputs": [],
   "source": [
    "def nb(dataset,target_col,k_values):\n",
    "    for k in k_values:\n",
    "        x_train,x_test,y_train,y_test=train_test_split(dataset.drop(columns=[target_col]),dataset[target_col],test_size=(1-k/10),random_state=42)\n",
    "        clf=Classifier()\n",
    "        clf.fit(x_train.values,y_train.values)\n",
    "        y_pred=clf.predict(x_test.values)\n",
    "        accuracy=accuracy_score(y_test,y_pred)\n",
    "        print(f\"Split {k*10}-{100-k*10} accuracy:{accuracy:.2}\")"
   ]
  },
  {
   "cell_type": "code",
   "execution_count": null,
   "id": "2075f35e-1785-42a7-9d3a-3326a57d3fa7",
   "metadata": {},
   "outputs": [],
   "source": [
    "iris=load_dataset(\"iris\")\n",
    "print(\"NB for Iris\")\n",
    "nb(iris,\"species\",[3,5,7,9])"
   ]
  },
  {
   "cell_type": "code",
   "execution_count": 21,
   "id": "15d9379f-bc44-42db-be81-41139c556745",
   "metadata": {},
   "outputs": [
    {
     "name": "stdout",
     "output_type": "stream",
     "text": [
      "NB for Titanic\n",
      "Split 30-70 accuracy:0.75\n",
      "Split 50-50 accuracy:0.78\n",
      "Split 70-30 accuracy:0.79\n",
      "Split 90-10 accuracy:0.79\n"
     ]
    }
   ],
   "source": [
    "titanic=pd.read_csv(\"titanic.csv\")\n",
    "titanic=titanic.drop(columns=[\"PassengerId\",\"Name\",\"Ticket\",\"Cabin\"])\n",
    "titanic[\"Age\"].fillna(titanic[\"Age\"].median(),inplace=True)\n",
    "titanic[\"Embarked\"].fillna(titanic[\"Embarked\"].mode()[0],inplace=True)\n",
    "titanic=pd.get_dummies(titanic,columns=[\"Sex\",\"Embarked\"])\n",
    "print(\"NB for Titanic\")\n",
    "nb(titanic,\"Survived\",[3,5,7,9])"
   ]
  },
  {
   "cell_type": "code",
   "execution_count": null,
   "id": "d360227f-bc8a-4348-a40b-0f50288e70a8",
   "metadata": {},
   "outputs": [],
   "source": []
  }
 ],
 "metadata": {
  "kernelspec": {
   "display_name": "Python 3 (ipykernel)",
   "language": "python",
   "name": "python3"
  },
  "language_info": {
   "codemirror_mode": {
    "name": "ipython",
    "version": 3
   },
   "file_extension": ".py",
   "mimetype": "text/x-python",
   "name": "python",
   "nbconvert_exporter": "python",
   "pygments_lexer": "ipython3",
   "version": "3.11.7"
  }
 },
 "nbformat": 4,
 "nbformat_minor": 5
}
