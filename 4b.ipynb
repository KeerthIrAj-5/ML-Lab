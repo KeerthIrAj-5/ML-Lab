{
 "cells": [
  {
   "cell_type": "code",
   "execution_count": 1,
   "id": "2e81a9e2-2a8b-40b1-a490-b4074415bce8",
   "metadata": {},
   "outputs": [],
   "source": [
    "class TreeNode:\n",
    "    def __init__(self,value,children=[]):\n",
    "        self.value=value\n",
    "        self.children=children\n",
    "        self.alpha=float(\"-inf\")\n",
    "        self.beta=float(\"inf\")"
   ]
  },
  {
   "cell_type": "code",
   "execution_count": 3,
   "id": "5283206e-14f5-464f-a4b6-38e853c4aab1",
   "metadata": {},
   "outputs": [],
   "source": [
    "def alphabeta(node,depth,alpha,beta,maxi):\n",
    "    global pc\n",
    "    if depth==0 or not node.children:\n",
    "        return node.value,[node.value]\n",
    "    if maxi:\n",
    "        maxvalue=float(\"-inf\")\n",
    "        maxpath=[]\n",
    "        for child in node.children:\n",
    "            childvalue,childpath=alphabeta(child,depth-1,alpha,beta,False)\n",
    "            if childvalue>maxvalue:\n",
    "                maxvalue=childvalue\n",
    "                maxpath=[node.value]+childpath\n",
    "            alpha=max(alpha,maxvalue)\n",
    "            if alpha>=beta:\n",
    "                pc+=len(child.children)+1\n",
    "                break\n",
    "        return maxvalue,maxpath\n",
    "    else:\n",
    "        minvalue=float(\"inf\")\n",
    "        minpath=[]\n",
    "        for child in node.children:\n",
    "            childvalue,childpath=alphabeta(child,depth-1,alpha,beta,True)\n",
    "            if childvalue<minvalue:\n",
    "                minvalue=childvalue\n",
    "                minpath=[node.value]+childpath\n",
    "            beta=min(beta,minvalue)\n",
    "            if alpha>=beta:\n",
    "                pc+=len(child.children)+1\n",
    "                break\n",
    "        return minvalue,minpath\n",
    "        \n",
    "                \n",
    "                "
   ]
  },
  {
   "cell_type": "code",
   "execution_count": 4,
   "id": "6faa9754-fbff-42ba-94e0-41f2cc659653",
   "metadata": {},
   "outputs": [
    {
     "name": "stdout",
     "output_type": "stream",
     "text": [
      "3\n",
      "[0, 1, 3]\n",
      "Pc:1\n"
     ]
    }
   ],
   "source": [
    "game=TreeNode(0,[\n",
    "    TreeNode(1,[TreeNode(3),TreeNode(12)]),\n",
    "    TreeNode(4,[TreeNode(8),TreeNode(2)])\n",
    "])\n",
    "pc=0\n",
    "value,path=alphabeta(game,2,float(\"-inf\"),float(\"inf\"),True)\n",
    "print(f\"{value}\\n{path}\\nPc:{pc}\")"
   ]
  },
  {
   "cell_type": "code",
   "execution_count": null,
   "id": "fc1755a0-0ffd-4eb7-9f4b-fba755f51c6b",
   "metadata": {},
   "outputs": [],
   "source": []
  }
 ],
 "metadata": {
  "kernelspec": {
   "display_name": "Python 3 (ipykernel)",
   "language": "python",
   "name": "python3"
  },
  "language_info": {
   "codemirror_mode": {
    "name": "ipython",
    "version": 3
   },
   "file_extension": ".py",
   "mimetype": "text/x-python",
   "name": "python",
   "nbconvert_exporter": "python",
   "pygments_lexer": "ipython3",
   "version": "3.11.7"
  }
 },
 "nbformat": 4,
 "nbformat_minor": 5
}
